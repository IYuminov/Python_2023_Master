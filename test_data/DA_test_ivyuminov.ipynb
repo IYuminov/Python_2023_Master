{
 "cells": [
  {
   "cell_type": "code",
   "execution_count": 1,
   "metadata": {},
   "outputs": [],
   "source": [
    "from pandas import read_csv\n",
    "import numpy as np\n",
    "import seaborn as sns"
   ]
  },
  {
   "cell_type": "markdown",
   "metadata": {},
   "source": [
    "# Задача 1. Уникальные ip\n",
    "\n",
    "\n",
    "Дан файл `access_log.txt`, строки которого начинаются с ip пользователей. Найти:\n",
    "\n",
    "1. количество уникальных ip\n",
    "2. 5 самых часто встречающихся и то, сколько раз они встречаются."
   ]
  },
  {
   "cell_type": "code",
   "execution_count": 22,
   "metadata": {},
   "outputs": [
    {
     "data": {
      "text/html": [
       "<div>\n",
       "<style scoped>\n",
       "    .dataframe tbody tr th:only-of-type {\n",
       "        vertical-align: middle;\n",
       "    }\n",
       "\n",
       "    .dataframe tbody tr th {\n",
       "        vertical-align: top;\n",
       "    }\n",
       "\n",
       "    .dataframe thead th {\n",
       "        text-align: right;\n",
       "    }\n",
       "</style>\n",
       "<table border=\"1\" class=\"dataframe\">\n",
       "  <thead>\n",
       "    <tr style=\"text-align: right;\">\n",
       "      <th></th>\n",
       "      <th>IP</th>\n",
       "      <th>request</th>\n",
       "    </tr>\n",
       "  </thead>\n",
       "  <tbody>\n",
       "    <tr>\n",
       "      <th>0</th>\n",
       "      <td>13.66.139.0</td>\n",
       "      <td>[19/Dec/2020:13:57:26 +0100] \"GET /index.php?o...</td>\n",
       "    </tr>\n",
       "    <tr>\n",
       "      <th>1</th>\n",
       "      <td>157.48.153.185</td>\n",
       "      <td>[19/Dec/2020:14:08:06 +0100] \"GET /apache-log/...</td>\n",
       "    </tr>\n",
       "    <tr>\n",
       "      <th>2</th>\n",
       "      <td>157.48.153.185</td>\n",
       "      <td>[19/Dec/2020:14:08:08 +0100] \"GET /favicon.ico...</td>\n",
       "    </tr>\n",
       "    <tr>\n",
       "      <th>3</th>\n",
       "      <td>216.244.66.230</td>\n",
       "      <td>[19/Dec/2020:14:14:26 +0100] \"GET /robots.txt ...</td>\n",
       "    </tr>\n",
       "    <tr>\n",
       "      <th>4</th>\n",
       "      <td>54.36.148.92</td>\n",
       "      <td>[19/Dec/2020:14:16:44 +0100] \"GET /index.php?o...</td>\n",
       "    </tr>\n",
       "    <tr>\n",
       "      <th>...</th>\n",
       "      <td>...</td>\n",
       "      <td>...</td>\n",
       "    </tr>\n",
       "    <tr>\n",
       "      <th>100574</th>\n",
       "      <td>193.106.31.130</td>\n",
       "      <td>[22/Jan/2021:00:46:58 +0100] \"POST /administra...</td>\n",
       "    </tr>\n",
       "    <tr>\n",
       "      <th>100575</th>\n",
       "      <td>193.106.31.130</td>\n",
       "      <td>[22/Jan/2021:00:46:58 +0100] \"POST /administra...</td>\n",
       "    </tr>\n",
       "    <tr>\n",
       "      <th>100576</th>\n",
       "      <td>193.106.31.130</td>\n",
       "      <td>[22/Jan/2021:00:46:58 +0100] \"POST /administra...</td>\n",
       "    </tr>\n",
       "    <tr>\n",
       "      <th>100577</th>\n",
       "      <td>193.106.31.130</td>\n",
       "      <td>[22/Jan/2021:00:46:59 +0100] \"POST /administra...</td>\n",
       "    </tr>\n",
       "    <tr>\n",
       "      <th>100578</th>\n",
       "      <td>193.106.31.130</td>\n",
       "      <td>[22/Jan/2021:00:46:59 +0100] \"POST /administra...</td>\n",
       "    </tr>\n",
       "  </tbody>\n",
       "</table>\n",
       "<p>100579 rows × 2 columns</p>\n",
       "</div>"
      ],
      "text/plain": [
       "                    IP                                            request\n",
       "0          13.66.139.0  [19/Dec/2020:13:57:26 +0100] \"GET /index.php?o...\n",
       "1       157.48.153.185  [19/Dec/2020:14:08:06 +0100] \"GET /apache-log/...\n",
       "2       157.48.153.185  [19/Dec/2020:14:08:08 +0100] \"GET /favicon.ico...\n",
       "3       216.244.66.230  [19/Dec/2020:14:14:26 +0100] \"GET /robots.txt ...\n",
       "4         54.36.148.92  [19/Dec/2020:14:16:44 +0100] \"GET /index.php?o...\n",
       "...                ...                                                ...\n",
       "100574  193.106.31.130  [22/Jan/2021:00:46:58 +0100] \"POST /administra...\n",
       "100575  193.106.31.130  [22/Jan/2021:00:46:58 +0100] \"POST /administra...\n",
       "100576  193.106.31.130  [22/Jan/2021:00:46:58 +0100] \"POST /administra...\n",
       "100577  193.106.31.130  [22/Jan/2021:00:46:59 +0100] \"POST /administra...\n",
       "100578  193.106.31.130  [22/Jan/2021:00:46:59 +0100] \"POST /administra...\n",
       "\n",
       "[100579 rows x 2 columns]"
      ]
     },
     "execution_count": 22,
     "metadata": {},
     "output_type": "execute_result"
    }
   ],
   "source": [
    "access_log = read_csv('access_log.txt', sep= ' - - ', header= None, names= ['IP', 'request'], engine= 'python')\n",
    "access_log"
   ]
  },
  {
   "cell_type": "code",
   "execution_count": 25,
   "metadata": {},
   "outputs": [
    {
     "name": "stdout",
     "output_type": "stream",
     "text": [
      "1) Количество уникальных ip: 2298 шт.\n",
      "\n",
      "2) 5 самых часто встречающихся и то, сколько раз они встречаются: \n",
      "\n",
      "IP\n",
      "193.106.31.130    44978\n",
      "173.255.176.5      5220\n",
      "178.44.47.170      2824\n",
      "51.210.183.78      2684\n",
      "45.15.143.155      1927\n",
      "Name: count, dtype: int64\n"
     ]
    }
   ],
   "source": [
    "def calc_access_log(data):\n",
    "    # функция выводит на печать данные из задания\n",
    "    n_unique_data = data.nunique()\n",
    "    top_ip = data.value_counts().head()\n",
    "    print('1) Количество уникальных ip: {} шт.\\n\\n2) 5 самых часто встречающихся и то, сколько раз они встречаются: \\n\\n{}'.format(n_unique_data, top_ip))\n",
    "\n",
    "calc_access_log(access_log['IP'])"
   ]
  },
  {
   "cell_type": "markdown",
   "metadata": {},
   "source": [
    "# Задача 2. Класс\n",
    "\n",
    "Напишите класс для интегрирования функций одной переменной без особенностей на конечном интервале. \n",
    "Что у класса должно быть: \n",
    "    \n",
    "1. Выбор способа интегрирование: `trapeze` и `rectangle` (интегрирование методом трапеций и прямоугольников соответственно)\n",
    "    \n",
    "2. Явное указание интервала интегрирования и количества отрезков, на которые этот интервал разбивается\n",
    "\n",
    "3. Возможность передать любую функцию одной переменной (которая на вход принимает вещественное число и возвращает тоже вещественное число), предполагается, что функция особенностей не имеет\n",
    "\n",
    "\n",
    "Пример вызова:\n",
    "\n",
    "    trapeze_integrator = Integrator(-1, 1, 1000, 'trapeze')\n",
    "\n",
    "    x3 = lambda x: x\\*\\*3\n",
    "\n",
    "    trapeze_integrator.integrate(x3)\n",
    "    \n",
    "Ну и результат такого интегрирования должен быть разумным) Для примера должно получиться что-то около 0."
   ]
  },
  {
   "cell_type": "code",
   "execution_count": 139,
   "metadata": {},
   "outputs": [],
   "source": [
    "class Integrator:\n",
    "    \n",
    "    def __init__(self, a, b, nseg, method):\n",
    "        self.a = a\n",
    "        self.b = b\n",
    "        self.nseg = nseg\n",
    "        self.method = method\n",
    "\n",
    "    def integrate(self, func):\n",
    "        result = 0\n",
    "        if self.method == 'trapeze':\n",
    "            dx = 1.0 * (self.b - self.a) / self.nseg\n",
    "            sum = 0.5 * (func(self.a) + func(self.b))\n",
    "            for i in range(1, self.nseg):\n",
    "                sum += func(self.a + i * dx)\n",
    "            result = sum * dx\n",
    "\n",
    "        elif self.method == 'rectangle':\n",
    "            dx = 1.0 * (self.b - self.a) / self.nseg\n",
    "            sum = 0.0\n",
    "            xstart = self.a + 0.5 * dx\n",
    "            for i in range(self.nseg):\n",
    "                sum += func(xstart + i * dx)\n",
    "            result = sum * dx\n",
    "\n",
    "        return result    "
   ]
  },
  {
   "cell_type": "code",
   "execution_count": 142,
   "metadata": {},
   "outputs": [
    {
     "data": {
      "text/plain": [
       "(0.40000049544107696-0.40000049544107724j)"
      ]
     },
     "execution_count": 142,
     "metadata": {},
     "output_type": "execute_result"
    }
   ],
   "source": [
    "trapeze_integrator = Integrator(-1, 1, 1000, 'trapeze')\n",
    "x3 = lambda x: x**(3/2)\n",
    "trapeze_integrator.integrate(x3)"
   ]
  },
  {
   "cell_type": "markdown",
   "metadata": {},
   "source": [
    "# Задача 3. NumPy\n",
    "\n",
    "Вам дан массив с числами размера $x*n$ (это размер столбца) на $m$. Напишите функцию `bucket_aggregate(arr: np.array, x: int)-> np.array`, которая делает следующее преобразование:\n",
    "\n",
    "Каждый столбец разбивается на x бакетов одинаковой длины n и внутри каждого бакета считается среднее значение.\n",
    "На выходе получается массив размера $n$ на $m$. Гарантируется, что длина столбца входного массива нацело делится на x. (\"корректную\" работу для массива 10\\*10 и 3 бакетов предусматривать не обязательно). Ошибки вычислений, связанные с ограниченной точностью типа Float, пытаться вылечить не обязательно.\n",
    "\n",
    "**Пример**\n",
    "\n",
    "**Вход**\n",
    "\n",
    "Массив **a**\n",
    "\n",
    "1 1 1\n",
    "\n",
    "2 3 3\n",
    "\n",
    "4 5 6\n",
    " \n",
    "1 2 3\n",
    "\n",
    "\n",
    "**Применение**\n",
    "\n",
    "    bucket_aggregate(a, 2)\n",
    "    \n",
    "**Выход**\n",
    "\n",
    "1.5 2   2\n",
    "\n",
    "2.5 3.5 4.5\n",
    "\n"
   ]
  },
  {
   "cell_type": "code",
   "execution_count": 126,
   "metadata": {},
   "outputs": [
    {
     "name": "stdout",
     "output_type": "stream",
     "text": [
      "[[1.5 2.  2. ]\n",
      " [2.5 3.5 4.5]]\n"
     ]
    }
   ],
   "source": [
    "def bucket_aggregate(arr: np.array, x: int)-> np.array:\n",
    "    n = len(arr) // x\n",
    "    m = len(arr[0])\n",
    "    result = np.array([[float(0)] * m] * x)\n",
    "    for i in range(len(result)):\n",
    "        for j in range(len(result[0])):\n",
    "            result[i][j] = (arr[i*2][j] + arr[i*2+1][j]) / n\n",
    "    return result\n",
    "\n",
    "print(bucket_aggregate([[1, 1, 1], [2, 3, 3], [4, 5, 6], [1, 2, 3]], 2))"
   ]
  },
  {
   "cell_type": "markdown",
   "metadata": {},
   "source": [
    "# Задача 4. Про pandas\n",
    "\n",
    "Дан датафрейм, содержащий распаршенную с сайта reverb информацию об объявлениях о продаже электрогитар.\n",
    "Поля там такие:\n",
    "\n",
    "`title` - заголовок объявления\n",
    "`description` и `text` - что-то из описания объявления\n",
    "`price` - цена в долларах\n",
    "`params_dict` - словарь параметров (чтобы считать его, можете воспользоваться `eval`)\n",
    "\n",
    "Вопросы:\n",
    "\n",
    "1. Сколько возможных ключей есть в params_dict\n",
    "2. Какой инструмент самый дорогой и сколько он стоит\n",
    "3. Какой самый частый бренд (если известен)\n",
    "4. Можно ли сказать, что стоимость инструмента брендов Fender и Gibson зависит от года производства? если да, то как? (ответом будет график)"
   ]
  },
  {
   "cell_type": "code",
   "execution_count": 12,
   "metadata": {},
   "outputs": [],
   "source": [
    "reverd = read_csv('reverb.csv', index_col= 0)\n",
    "\n",
    "# ПРЕПРОЦЕССИНГ\n",
    "\n",
    "# преобразуем param_dict\n",
    "reverd['param_dict_clean'] = [eval(reverd['param_dict'][i]) for i in range(len(reverd['param_dict']))]\n",
    "\n",
    "# бренд гитар в отдельную переменную\n",
    "reverd['brand_guitar'] = list(map(lambda x: x.get('Brand'), reverd['param_dict_clean']))\n",
    "\n",
    "# год гитар в отдельную переменную\n",
    "reverd['year_guitar'] = list(map(lambda x: x.get('Year'), reverd['param_dict_clean']))\n",
    "\n",
    "# преобразуем price\n",
    "str_punc = \"[!#$%&'()*+,/:;<=>?@[\\]^_`{|}~—\\\"\\-]+—/\"\n",
    "def data_preprocessing(text):\n",
    "    text = float(''.join([c for c in text if c not in str_punc]))    \n",
    "    return text\n",
    "\n",
    "# преобразованная цена\n",
    "reverd['price_clean'] = reverd['price'].apply(data_preprocessing)"
   ]
  },
  {
   "cell_type": "code",
   "execution_count": 13,
   "metadata": {},
   "outputs": [
    {
     "name": "stdout",
     "output_type": "stream",
     "text": [
      "В param_dict есть 33 уникальных ключа\n"
     ]
    }
   ],
   "source": [
    "# 1) сколько возможных ключей есть в param_dict\n",
    "\n",
    "# переменная, хранящая ключи param_dict\n",
    "keys_params = reverd['param_dict_clean'].apply(lambda x: list(x.keys()))\n",
    "\n",
    "# переменная хранящая ключи в виде множества\n",
    "set_params = set(keys_params[0])\n",
    "\n",
    "for i in keys_params:\n",
    "    set_params.update(i)\n",
    "\n",
    "print('В param_dict есть {} уникальных ключа'.format(len(set_params)))"
   ]
  },
  {
   "cell_type": "code",
   "execution_count": 14,
   "metadata": {},
   "outputs": [
    {
     "name": "stdout",
     "output_type": "stream",
     "text": [
      "Самая дорогая гитара:\n",
      "\n",
      "Condition: Mint (Used)Mint items are in essentially new original condition but have been opened or played.learn more\n",
      "Brand: Gibson\n",
      "Model: Eric Clapton\n",
      "Made In: United States\n",
      "Price: $387,363.74\n"
     ]
    }
   ],
   "source": [
    "# 2) какой инструмент самый дорогой и сколько он стоит\n",
    "\n",
    "# индекс самой дорогой гитары\n",
    "index_max_price = list(reverd.index[reverd['price_clean'] == reverd['price_clean'].max()])[0]\n",
    "\n",
    "# параметры самой дорогой гитары\n",
    "max_price_guitar = eval(reverd['param_dict'][index_max_price])\n",
    "\n",
    "# добавляем к парамметрам цену \n",
    "max_price_guitar['Price'] = reverd['price'][index_max_price]\n",
    "\n",
    "print(\"Самая дорогая гитара:\")\n",
    "print()\n",
    "for key, value in max_price_guitar.items():\n",
    "  print(\"{0}: {1}\".format(key,value))\n"
   ]
  },
  {
   "cell_type": "code",
   "execution_count": 15,
   "metadata": {},
   "outputs": [
    {
     "name": "stdout",
     "output_type": "stream",
     "text": [
      "Самый частый бренд гитар: Fender\n"
     ]
    }
   ],
   "source": [
    "# 3) какой самый частый бренд\n",
    "max_count_guitar = reverd['brand_guitar'].value_counts().head(1).index[0]\n",
    "\n",
    "print(f'Самый частый бренд гитар: {max_count_guitar}')"
   ]
  },
  {
   "cell_type": "code",
   "execution_count": 20,
   "metadata": {},
   "outputs": [
    {
     "data": {
      "image/png": "[encoded data removed]",
      "text/plain": [
       "<Figure size 640x480 with 1 Axes>"
      ]
     },
     "metadata": {},
     "output_type": "display_data"
    }
   ],
   "source": [
    "# 4) можно ли сказать, что стоимость инструмента брендов Fender и Gibson зависит от года производства? Если да, то как?\n",
    "fender_and_gibson_guitar = reverd[(reverd['brand_guitar'] == 'Fender') | (reverd['brand_guitar'] == 'Gibson')][['brand_guitar', 'year_guitar',\t'price_clean']]\n",
    "\n",
    "# вычищаем year_guitar для анализа\n",
    "str_punc = \"[!#$%&'()*+,./:;<=>?@[\\] ^_`{|}~’～—\\\"\\]-+—/\"\n",
    "def data_preprocessing(text):\n",
    "    try:\n",
    "        text = ''.join([c for c in text if c not in str_punc])\n",
    "        text = ''.join(i for i in text if not i.isalpha())\n",
    "        text = '%.4s' % text\n",
    "        if (len(text) < 3) and (int(text) % 100 > 30):\n",
    "            text = '19' + text\n",
    "        elif (len(text) == 4) and (int(text) // 100 > 20):\n",
    "            text = '19' + text[0:2]\n",
    "        elif (len(text) == 4) and (int(text) // 100 < 19):\n",
    "            text = '19' + text[-2:]\n",
    "        elif (len(text) == 1):\n",
    "            text = '200' + text\n",
    "        text = int(text)\n",
    "    except:\n",
    "        text = None\n",
    "    return text\n",
    "\n",
    "# применяем функцию очистки\n",
    "fender_and_gibson_guitar['year_guitar'] = fender_and_gibson_guitar['year_guitar'].apply(data_preprocessing)\n",
    "\n",
    "# заполняем пропуски после очистки\n",
    "fender_and_gibson_guitar['year_guitar'] = fender_and_gibson_guitar.groupby('brand_guitar')['year_guitar'].transform(lambda x: x.fillna(int(x.mean())))\n",
    "\n",
    "# график\n",
    "sns.scatterplot(\n",
    "    data= fender_and_gibson_guitar, \n",
    "    x= \"year_guitar\", \n",
    "    y= \"price_clean\", \n",
    "    hue= \"brand_guitar\"\n",
    "    );"
   ]
  },
  {
   "cell_type": "markdown",
   "metadata": {},
   "source": [
    "# Задача 5. Про парсинг информации\n",
    "\n",
    "Есть сайт https://nplus1.ru/ , новости за дату на нем можно увидеть на страницах типа https://nplus1.ru/news/2023/03/28\n",
    "\n",
    "Используя парсер, посчитайте суммарную длину текстов статей (в количестве слов или в количестве символов, как вам будет удобнее), которые были на N+1 в списке новостей в Июле 2023 года (пройтись по всем датам июля, собрать тексты статей, посчитать длину в словах/символах). \n",
    "\n",
    "Пользуйтесь любыми удобными вам библиотеками"
   ]
  }
 ],
 "metadata": {
  "kernelspec": {
   "display_name": "Python 3",
   "language": "python",
   "name": "python3"
  },
  "language_info": {
   "codemirror_mode": {
    "name": "ipython",
    "version": 3
   },
   "file_extension": ".py",
   "mimetype": "text/x-python",
   "name": "python",
   "nbconvert_exporter": "python",
   "pygments_lexer": "ipython3",
   "version": "3.9.13"
  }
 },
 "nbformat": 4,
 "nbformat_minor": 4
}
