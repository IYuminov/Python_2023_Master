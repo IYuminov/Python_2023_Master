{
 "cells": [
  {
   "cell_type": "markdown",
   "metadata": {},
   "source": [
    "### 1. Даны функции для сортировки массивов, которые работают за O(N^2): Пузырек и сортировка выбором, эмпирически определить, какая реализация быстрее и как зависит разница времени исполнения одного и другого от длины входного массива\n",
    "\n",
    "\n",
    "Как решать:\n",
    "\n",
    "    1) Генерируем случайный список чисел длины N и его точную копию\n",
    "\n",
    "    2) Сортируем первый пузырьком, второй - выбором, в обоих случаях засекаем время\n",
    "\n",
    "    3) Записываем время сортировки при длине N в списки.\n",
    "\n",
    "    4) Получаем зависимость разницы времени исполнения от длины\n",
    "\n",
    "    5) Готово, вы восхитительны.\n",
    "\n",
    "Чтобы повысить точность, для каждого N можно сгенерировать случайный список несколько раз и усреднить время."
   ]
  },
  {
   "cell_type": "code",
   "execution_count": null,
   "metadata": {},
   "outputs": [],
   "source": [
    "def bubble_sort(nums):\n",
    "\n",
    "    # Устанавливаем swapped в True, чтобы цикл запустился хотя бы один раз\n",
    "    swapped = True\n",
    "\n",
    "    while swapped:\n",
    "        swapped = False\n",
    "\n",
    "        # Идем циклом по индексам наших элементов\n",
    "        for i in range(len(nums) - 1):\n",
    "#             print(nums)\n",
    "            # Если текущий элемент слева больше своего элемента справа\n",
    "            if nums[i] > nums[i + 1]:\n",
    "\n",
    "                # Меняем элементы местами\n",
    "                nums[i], nums[i + 1] = nums[i + 1], nums[i]\n",
    "\n",
    "                # Устанавливаем swapped в True для следующей итерации\n",
    "                swapped = True\n",
    "\n",
    "                # По окончании первого прогона цикла for\n",
    "                # самый большой элемент \"Всплывет\" наверх\n",
    "                \n",
    "                \n",
    "def selection_sort(nums):\n",
    "\n",
    "    # Значение i соответствует кол-ву отсортированных значений\n",
    "    for i in range(len(nums)):\n",
    "\n",
    "        # Исходно считаем наименьшим первый элемент\n",
    "        lowest_value_index = i\n",
    "\n",
    "        # Этот цикл перебирает несортированные элементы\n",
    "        for j in range(i + 1, len(nums)):\n",
    "            if nums[j] < nums[lowest_value_index]:\n",
    "                lowest_value_index = j\n",
    "\n",
    "        # Самый маленький элемент меняем с первым в списке\n",
    "        nums[i], nums[lowest_value_index] = nums[lowest_value_index], nums[i]\n",
    "\n"
   ]
  },
  {
   "cell_type": "markdown",
   "metadata": {},
   "source": [
    "### 2. [Алгоритм имитации отжига](https://machinelearningmastery.com/simulated-annealing-from-scratch-in-python/)\n",
    "\n",
    "Прочтите статью про алгоритм имитации отжига (я сдернул информацию по ссылке), это простейший не-градиентный алгоритм оптимизации функций(поиска экстремума)\n",
    "\n",
    "\n",
    "**Задание 1**\n",
    "\n",
    "Проверьте, как зависит скорость сходимости алгоритма для целевой функии вида $y = x^2$ от:\n",
    "\n",
    "1) начальной температуры\n",
    "\n",
    "2) размера шага алгоритма (попробуйте подомножать результаты randn на число и заменить нормальное распределение на равномерное)\n",
    "\n",
    "\n",
    "**Задание 2**\n",
    "\n",
    "Попробовать желательно, но не обязательно.\n",
    "\n",
    "Модифицируйте алгоритм так чтобы он работал для квадратичной функции от двух переменных $x^2 + y^2$ и , если возможно, от n переменных."
   ]
  },
  {
   "cell_type": "code",
   "execution_count": 2,
   "metadata": {},
   "outputs": [],
   "source": [
    "# simulated annealing search of a one-dimensional objective function\n",
    "from numpy import asarray\n",
    "from numpy import exp\n",
    "from numpy.random import randn\n",
    "from numpy.random import rand\n",
    "from numpy.random import seed\n",
    " \n",
    "# objective function\n",
    "def objective(x):\n",
    "    return x[0]**2.0\n",
    "\n",
    "def simulated_annealing(objective, bounds, n_iterations, step_size, temp):\n",
    "    # generate an initial point\n",
    "    best = bounds[:, 0] + rand(len(bounds)) * (bounds[:, 1] - bounds[:, 0])\n",
    "    # evaluate the initial point\n",
    "    best_eval = objective(best)\n",
    "    # current working solution\n",
    "    curr, curr_eval = best, best_eval\n",
    "    # run the algorithm\n",
    "    for i in range(n_iterations):\n",
    "        # take a step\n",
    "        candidate = curr + randn(len(bounds)) * step_size\n",
    "        # evaluate candidate point\n",
    "        candidate_eval = objective(candidate)\n",
    "        # check for new best solution\n",
    "        if candidate_eval < best_eval:\n",
    "            # store new best point\n",
    "            best, best_eval = candidate, candidate_eval\n",
    "            # report progress\n",
    "            print('>%d f(%s) = %.5f' % (i, best, best_eval))\n",
    "            # difference between candidate and current point evaluation\n",
    "            diff = candidate_eval - curr_eval\n",
    "            # calculate temperature for current epoch\n",
    "            t = temp / float(i + 1)\n",
    "            # calculate metropolis acceptance criterion\n",
    "            metropolis = exp(-diff / t)\n",
    "            # check if we should keep the new point\n",
    "            if diff < 0 or rand() < metropolis:\n",
    "                # store the new current point\n",
    "                curr, curr_eval = candidate, candidate_eval\n",
    "    return [best, best_eval]"
   ]
  },
  {
   "cell_type": "markdown",
   "metadata": {},
   "source": [
    "### 3. Подсчет слов\n",
    "Давайте теперь поработаем с настоящим файлом и действительно посчитаем в нем слова. Мы загрузим метаданные почтового сервера университета Мичигана. И попробуем **найти, с какого адреса ушло больше всего писем.**"
   ]
  },
  {
   "cell_type": "code",
   "execution_count": 1,
   "metadata": {},
   "outputs": [],
   "source": [
    "# импортируем библиотеку для доступа к файлам в интернете\n",
    "import requests\n",
    "# в переменной mbox хранится текст для работы\n",
    "mbox = requests.get('http://www.py4inf.com/code/mbox.txt').text"
   ]
  },
  {
   "cell_type": "markdown",
   "metadata": {},
   "source": [
    "### 4. Напишите функцию, которая переводит число, записанное римскими цифрами, в десятичное\n",
    "\n",
    "Символы для римских цифр:\n",
    "\n",
    "    I             1\n",
    "    V             5\n",
    "    X             10\n",
    "    L             50\n",
    "    C             100\n",
    "    D             500\n",
    "    M             1000\n",
    "\n",
    "\n",
    "Например, 2 записывается как II .\n",
    "\n",
    "12 записывается как XII, что просто X + II.\n",
    "\n",
    "Число 27 записывается как XXVII, что равно XX + V + II.\n",
    "\n",
    "Римские цифры обычно записываются от большего к меньшему слева направо. Однако символы для 4 не IIII. Вместо этого число четыре записывается как IV, потому что если I стоит перед V, мы \"вычитаем его\", получая тем самым четыре. Тот же принцип работает и для числа девять, которое записывается как IX. Существует шесть случаев, когда используется вычитание:\n",
    "\n",
    "    I может быть помещен перед V (5) и X (10) для получения 4 и 9.\n",
    "    X может быть помещен перед L (50) и C (100) для получения 40 и 90.\n",
    "    C может быть помещен перед D (500) и M (1000), чтобы получить 400 и 900."
   ]
  },
  {
   "cell_type": "code",
   "execution_count": null,
   "metadata": {},
   "outputs": [],
   "source": []
  },
  {
   "cell_type": "markdown",
   "metadata": {},
   "source": [
    "### 5. Напишите декоратор, который сначала выводит на печать имя вызываемой функции, затем делает паузу в 3 секунды, а затем вызывает функцию\n",
    "\n",
    "(Про имя вызываемой функции можно глянуть в лекции - там один из декораторов такое делал)"
   ]
  },
  {
   "cell_type": "code",
   "execution_count": null,
   "metadata": {},
   "outputs": [],
   "source": []
  },
  {
   "cell_type": "markdown",
   "metadata": {},
   "source": [
    "### 6. Функции ошибок\n",
    "\n",
    "В целом, машинное обучение часто сводится к минимизации какого-то функционала ошибки. Ваш алгоритм на обучающей выборке возвращает список предсказаний, который вы с помощью какого-то функционала сравниваете с правильными ответами и получаете некое значение (ошибку), которую нужно минимизировать. В этом задании необходимо реализовать ряд функционалов ошибок.\n",
    "\n",
    "\n",
    "## Пример - MSE"
   ]
  },
  {
   "cell_type": "code",
   "execution_count": 2,
   "metadata": {},
   "outputs": [],
   "source": [
    "from typing import List\n",
    "\n",
    "def mse(prediction:List[float], \n",
    "        actual_values:List[float]) -> float:\n",
    "    '''\n",
    "    На вход приходят два списка равной длины\n",
    "    На выходе мы получаем среднеквадратичную ошибку\n",
    "    '''\n",
    "    assert len(prediction) == len(actual_values)\n",
    "    \n",
    "    N = len(prediction)\n",
    "    mse = sum((prediction[i] - actual_values[i])**2 for i in range(N))/N\n",
    "    \n",
    "    return mse"
   ]
  },
  {
   "cell_type": "code",
   "execution_count": 4,
   "metadata": {},
   "outputs": [
    {
     "data": {
      "text/plain": [
       "True"
      ]
     },
     "execution_count": 4,
     "metadata": {},
     "output_type": "execute_result"
    }
   ],
   "source": [
    "a = [1,2,3,4,5]\n",
    "b = [1,2,3,10,6]\n",
    "\n",
    "mse(a,b) == (6**2 + 1)/5"
   ]
  },
  {
   "cell_type": "markdown",
   "metadata": {},
   "source": [
    "Аналогичным образом реализуйте следующий список функций ошибок:\n",
    "\n",
    "    RMSE, LogLoss, HueberLoss, MAE, MAPE, sMAPE, log-cosh loss, quantile loss  :) \n",
    "\n",
    "Вопросы можно задавать"
   ]
  },
  {
   "cell_type": "code",
   "execution_count": null,
   "metadata": {},
   "outputs": [],
   "source": []
  }
 ],
 "metadata": {
  "kernelspec": {
   "display_name": "Python 3",
   "language": "python",
   "name": "python3"
  },
  "language_info": {
   "codemirror_mode": {
    "name": "ipython",
    "version": 3
   },
   "file_extension": ".py",
   "mimetype": "text/x-python",
   "name": "python",
   "nbconvert_exporter": "python",
   "pygments_lexer": "ipython3",
   "version": "3.8.3"
  }
 },
 "nbformat": 4,
 "nbformat_minor": 4
}
